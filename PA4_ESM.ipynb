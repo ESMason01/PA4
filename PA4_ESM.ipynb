{
 "cells": [
  {
   "cell_type": "markdown",
   "id": "3c4b9329",
   "metadata": {},
   "source": [
    "# Assignment #3, Sawyer Mason, Version 1, CS-150-01"
   ]
  },
  {
   "cell_type": "code",
   "execution_count": 3,
   "id": "2836a2ea",
   "metadata": {},
   "outputs": [],
   "source": [
    "cars=[\"Honda\", \"Acura\", \"Ford\"]"
   ]
  },
  {
   "cell_type": "code",
   "execution_count": 4,
   "id": "fa106a1e",
   "metadata": {},
   "outputs": [],
   "source": [
    "cars.append(\"Toyota\")"
   ]
  },
  {
   "cell_type": "markdown",
   "id": "389e99d2",
   "metadata": {},
   "source": [
    "the .append() adds an element to the last position in a defined list "
   ]
  },
  {
   "cell_type": "code",
   "execution_count": 5,
   "id": "b659e1d5",
   "metadata": {},
   "outputs": [],
   "source": [
    "cars1=[\"ram\", \"jeep\"]\n",
    "cars.extend(cars1)"
   ]
  },
  {
   "cell_type": "markdown",
   "id": "f2221471",
   "metadata": {},
   "source": [
    "the .extend() function adds elements (such as an already exisiting list) to a different already exisiting list"
   ]
  },
  {
   "cell_type": "code",
   "execution_count": 8,
   "id": "d2c313d8",
   "metadata": {},
   "outputs": [
    {
     "name": "stdout",
     "output_type": "stream",
     "text": [
      "['nissan', 'nissan', 'Honda', 'Acura', 'Ford', 'Toyota', 'ram', 'jeep']\n"
     ]
    }
   ],
   "source": [
    "cars.insert(0, \"nissan\")\n",
    "print(cars)"
   ]
  },
  {
   "cell_type": "markdown",
   "id": "8c87d3a7",
   "metadata": {},
   "source": [
    "the .insert() function adds an element to a list at a specific position defined in the function"
   ]
  },
  {
   "cell_type": "code",
   "execution_count": 9,
   "id": "816abb5e",
   "metadata": {},
   "outputs": [
    {
     "name": "stdout",
     "output_type": "stream",
     "text": [
      "['nissan', 'nissan', 'Honda', 'Acura', 'Ford', 'Toyota', 'jeep']\n"
     ]
    }
   ],
   "source": [
    "cars.remove(\"ram\")\n",
    "print(cars)"
   ]
  },
  {
   "cell_type": "markdown",
   "id": "9615a2d4",
   "metadata": {},
   "source": [
    "the .remove() function removes an element from a list based on the name of the element"
   ]
  },
  {
   "cell_type": "code",
   "execution_count": 14,
   "id": "98b8e247",
   "metadata": {},
   "outputs": [
    {
     "data": {
      "text/plain": [
       "2"
      ]
     },
     "execution_count": 14,
     "metadata": {},
     "output_type": "execute_result"
    }
   ],
   "source": [
    "cars.count(\"nissan\")"
   ]
  },
  {
   "cell_type": "markdown",
   "id": "5f3c5212",
   "metadata": {},
   "source": [
    "the .count() function returns the amount of times an element appears in the list\n"
   ]
  },
  {
   "cell_type": "code",
   "execution_count": 16,
   "id": "c81c3d70",
   "metadata": {},
   "outputs": [
    {
     "name": "stdout",
     "output_type": "stream",
     "text": [
      "['nissan', 'nissan', 'Honda', 'Acura', 'Ford', 'Toyota', 'jeep']\n"
     ]
    }
   ],
   "source": [
    "cars.index(\"Honda\")\n",
    "print(cars)"
   ]
  },
  {
   "cell_type": "markdown",
   "id": "7f6a8f2e",
   "metadata": {},
   "source": [
    "the .index() function returns a given element's position in the list aka it's index"
   ]
  },
  {
   "cell_type": "code",
   "execution_count": 17,
   "id": "ce62f9ec",
   "metadata": {},
   "outputs": [
    {
     "name": "stdout",
     "output_type": "stream",
     "text": [
      "['nissan', 'Honda', 'Acura', 'Ford', 'Toyota', 'jeep']\n"
     ]
    }
   ],
   "source": [
    "cars.pop(0)\n",
    "print(cars)"
   ]
  },
  {
   "cell_type": "markdown",
   "id": "d2924d73",
   "metadata": {},
   "source": [
    "the .pop function removes a function by it's index number"
   ]
  },
  {
   "cell_type": "code",
   "execution_count": 20,
   "id": "9ba65d27",
   "metadata": {},
   "outputs": [
    {
     "name": "stdout",
     "output_type": "stream",
     "text": [
      "[27, 103, 2, 65]\n"
     ]
    },
    {
     "data": {
      "text/plain": [
       "[2, 27, 65, 103]"
      ]
     },
     "execution_count": 20,
     "metadata": {},
     "output_type": "execute_result"
    }
   ],
   "source": [
    "numbers=[27, 103, 2, 65]\n",
    "print(numbers)\n",
    "sorted(numbers)"
   ]
  },
  {
   "cell_type": "markdown",
   "id": "1f19fd6f",
   "metadata": {},
   "source": [
    "the sorted() function temporarily sorts a list in accending order"
   ]
  },
  {
   "cell_type": "code",
   "execution_count": 21,
   "id": "a80f094b",
   "metadata": {},
   "outputs": [
    {
     "data": {
      "text/plain": [
       "[27, 103, 2, 65]"
      ]
     },
     "execution_count": 21,
     "metadata": {},
     "output_type": "execute_result"
    }
   ],
   "source": [
    "numbers.copy()"
   ]
  },
  {
   "cell_type": "markdown",
   "id": "57939e7e",
   "metadata": {},
   "source": [
    "the .copy() function creates a copy of of previously established list"
   ]
  },
  {
   "cell_type": "code",
   "execution_count": 23,
   "id": "204c536f",
   "metadata": {},
   "outputs": [
    {
     "name": "stdout",
     "output_type": "stream",
     "text": [
      "[]\n"
     ]
    }
   ],
   "source": [
    "numbers.clear()\n",
    "print(numbers)"
   ]
  },
  {
   "cell_type": "markdown",
   "id": "55fc99b4",
   "metadata": {},
   "source": [
    "the .clear() removes a defined range or all elements from a list "
   ]
  },
  {
   "cell_type": "code",
   "execution_count": 24,
   "id": "00a886d2",
   "metadata": {},
   "outputs": [
    {
     "data": {
      "text/plain": [
       "list"
      ]
     },
     "execution_count": 24,
     "metadata": {},
     "output_type": "execute_result"
    }
   ],
   "source": [
    "names=list()\n",
    "type(names)"
   ]
  },
  {
   "cell_type": "markdown",
   "id": "31275281",
   "metadata": {},
   "source": [
    "the list() function can be used to define a list"
   ]
  },
  {
   "cell_type": "code",
   "execution_count": 25,
   "id": "c2600a17",
   "metadata": {},
   "outputs": [],
   "source": [
    "names_tuple=(\"John\", \"Tim\", \"Roy\", \"Rex\")"
   ]
  },
  {
   "cell_type": "code",
   "execution_count": 26,
   "id": "f02da81f",
   "metadata": {},
   "outputs": [
    {
     "data": {
      "text/plain": [
       "4"
      ]
     },
     "execution_count": 26,
     "metadata": {},
     "output_type": "execute_result"
    }
   ],
   "source": [
    "len(names_tuple)"
   ]
  },
  {
   "cell_type": "markdown",
   "id": "b08c8ac3",
   "metadata": {},
   "source": [
    "the len() function returns how many elements are in a list or tuple"
   ]
  },
  {
   "cell_type": "code",
   "execution_count": 27,
   "id": "4b5fa3da",
   "metadata": {},
   "outputs": [
    {
     "data": {
      "text/plain": [
       "'Tim'"
      ]
     },
     "execution_count": 27,
     "metadata": {},
     "output_type": "execute_result"
    }
   ],
   "source": [
    "max(names_tuple)"
   ]
  },
  {
   "cell_type": "markdown",
   "id": "3fece5de",
   "metadata": {},
   "source": [
    "the max() function returns a maximum value in a list or tuple. When the elements are in letters it is based on the assigned letter value in python"
   ]
  },
  {
   "cell_type": "code",
   "execution_count": 28,
   "id": "a8becb90",
   "metadata": {},
   "outputs": [
    {
     "data": {
      "text/plain": [
       "'John'"
      ]
     },
     "execution_count": 28,
     "metadata": {},
     "output_type": "execute_result"
    }
   ],
   "source": [
    "min(names_tuple)"
   ]
  },
  {
   "cell_type": "markdown",
   "id": "161b4a27",
   "metadata": {},
   "source": [
    "the min() function returns a minimum value in a list or tuple. When the elements are in letters it is based on the assigned letter value in python"
   ]
  },
  {
   "cell_type": "code",
   "execution_count": null,
   "id": "f33d45d7",
   "metadata": {},
   "outputs": [],
   "source": []
  }
 ],
 "metadata": {
  "kernelspec": {
   "display_name": "Python 3 (ipykernel)",
   "language": "python",
   "name": "python3"
  },
  "language_info": {
   "codemirror_mode": {
    "name": "ipython",
    "version": 3
   },
   "file_extension": ".py",
   "mimetype": "text/x-python",
   "name": "python",
   "nbconvert_exporter": "python",
   "pygments_lexer": "ipython3",
   "version": "3.9.13"
  }
 },
 "nbformat": 4,
 "nbformat_minor": 5
}

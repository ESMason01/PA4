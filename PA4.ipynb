{
 "cells": [
  {
   "cell_type": "markdown",
   "id": "87a5f7f1",
   "metadata": {},
   "source": [
    "# PA4, Sawyer Mason, Version 1 CS-150-01"
   ]
  },
  {
   "cell_type": "code",
   "execution_count": 19,
   "id": "1a47261d",
   "metadata": {},
   "outputs": [
    {
     "name": "stdout",
     "output_type": "stream",
     "text": [
      "0\n",
      "1\n",
      "2\n",
      "3\n",
      "4\n",
      "5\n",
      "6 *\n",
      "7\n",
      "8\n",
      "9 *\n",
      "10\n",
      "11\n",
      "12 *\n",
      "13\n",
      "14\n",
      "15 *\n",
      "16\n",
      "17\n",
      "18 *\n",
      "19\n",
      "20\n",
      "21 *\n",
      "22\n",
      "23\n",
      "24 *\n",
      "25\n",
      "26\n",
      "27 *\n",
      "28\n",
      "29\n",
      "30 *\n",
      "31\n",
      "32\n",
      "33 *\n",
      "34\n",
      "35\n",
      "36 *\n",
      "37\n",
      "38\n",
      "39 *\n",
      "40\n",
      "41\n",
      "42 *\n",
      "43\n",
      "44\n",
      "45 *\n",
      "46\n",
      "47\n",
      "48 *\n",
      "49\n",
      "50\n",
      "51 *\n",
      "52\n",
      "53\n",
      "54 *\n",
      "55\n",
      "56\n",
      "57 *\n",
      "58\n",
      "59\n",
      "60 *\n",
      "61\n",
      "62\n",
      "63 *\n",
      "64\n",
      "65\n",
      "66 *\n",
      "67\n",
      "68\n",
      "69 *\n",
      "70\n",
      "71\n",
      "72 *\n",
      "73\n",
      "74\n",
      "75 *\n",
      "76\n",
      "77\n",
      "78 *\n",
      "79\n",
      "80\n",
      "81 *\n",
      "82\n",
      "83\n",
      "84 *\n",
      "85\n",
      "86\n",
      "87 *\n",
      "88\n",
      "89\n",
      "90 *\n",
      "91\n",
      "92\n",
      "93 *\n",
      "94\n",
      "95\n",
      "96 *\n",
      "97\n",
      "98\n",
      "99 *\n"
     ]
    }
   ],
   "source": [
    "\n",
    "for value in range(0,100):\n",
    "    if(value%3==0 and value>3):\n",
    "        print(value,\"*\")\n",
    "    elif(value>=0):\n",
    "        print(value)"
   ]
  },
  {
   "cell_type": "code",
   "execution_count": 1,
   "id": "d8a14607",
   "metadata": {},
   "outputs": [
    {
     "name": "stdout",
     "output_type": "stream",
     "text": [
      "enter a number 1-12:9\n",
      "September, 30 days\n"
     ]
    }
   ],
   "source": [
    "year=int(input(\"enter a number 1-12:\"))\n",
    "if(year<1 or year>12):\n",
    "    print(\"Input Error\")\n",
    "elif(year==1):\n",
    "    print(\"January, 31 days\")\n",
    "elif(year==2):\n",
    "    print(\"Febuary, 28 days\")\n",
    "elif(year==3):\n",
    "    print(\"March, 31 days\")\n",
    "elif(year==4):\n",
    "    print(\"April, 30 days\")\n",
    "elif(year==5):\n",
    "    print(\"May, 31 days\")\n",
    "elif(year==6):\n",
    "    print(\"June, 30 days\")\n",
    "elif(year==7):\n",
    "    print(\"July, 31 days\")\n",
    "elif(year==8):\n",
    "    print(\"August, 31 days\")\n",
    "elif(year==9):\n",
    "    print(\"September, 30 days\")\n",
    "elif(year==10):\n",
    "    print(\"October, 31 days\")\n",
    "elif(year==11):\n",
    "    print(\"November, 30 days\")\n",
    "elif(year==12):\n",
    "    print(\"December, 31 days\")"
   ]
  },
  {
   "cell_type": "code",
   "execution_count": 7,
   "id": "b1fd25e0",
   "metadata": {},
   "outputs": [
    {
     "name": "stdout",
     "output_type": "stream",
     "text": [
      "Enter a number: 11\n",
      "11 is a prime number\n"
     ]
    }
   ],
   "source": [
    "number=int(input(\"Enter a number: \"))\n",
    "if(number>3 or number1<2): \n",
    "    if(number1%2==0 or number%3==0):\n",
    "        print(number,\"is not a prime number\")\n",
    "    else:\n",
    "        print(number,\"is a prime number\")\n",
    "else:\n",
    "    print(number,\"is a prime number\")"
   ]
  },
  {
   "cell_type": "code",
   "execution_count": 13,
   "id": "4057bce3",
   "metadata": {},
   "outputs": [
    {
     "name": "stdout",
     "output_type": "stream",
     "text": [
      "enter value for the base: 10\n",
      "enter value for the height: 9\n",
      "enter value for side for the hypo: 7\n",
      "This is a scalene triangle\n"
     ]
    }
   ],
   "source": [
    "base=int(input(\"enter value for the base: \"))\n",
    "height=int(input(\"enter value for the height: \"))\n",
    "hypo=int(input(\"enter value for side for the hypo: \"))\n",
    "if(base==height!=hypo or base==hypo!=height or hypo==height!=base):\n",
    "    print(\"this is an isosceles triangle\")\n",
    "elif(base==height and base==hypo and height==hypo):\n",
    "    print(\"This is an equilateral triangle\")\n",
    "else:\n",
    "    print(\"This is a scalene triangle\")"
   ]
  },
  {
   "cell_type": "code",
   "execution_count": 26,
   "id": "476693a4",
   "metadata": {},
   "outputs": [
    {
     "name": "stdout",
     "output_type": "stream",
     "text": [
      "65 :Senior\n",
      "78 :Senior\n",
      "34 :Adult\n",
      "56 :Adult\n",
      "12 :Minor\n",
      "9 :Minor\n",
      "43 :Adult\n",
      "67 :Senior\n"
     ]
    }
   ],
   "source": [
    "ages=[65,78,34,56,12,9,43,67]\n",
    "\n",
    "for value in ages:\n",
    "    if(value<18):\n",
    "        print(value,\":Minor\")\n",
    "    elif(value>=18 and value<=64):\n",
    "        print(value,\":Adult\")\n",
    "    else:\n",
    "        print(value,\":Senior\")"
   ]
  },
  {
   "cell_type": "code",
   "execution_count": null,
   "id": "8714a7d8",
   "metadata": {},
   "outputs": [],
   "source": []
  }
 ],
 "metadata": {
  "kernelspec": {
   "display_name": "Python 3 (ipykernel)",
   "language": "python",
   "name": "python3"
  },
  "language_info": {
   "codemirror_mode": {
    "name": "ipython",
    "version": 3
   },
   "file_extension": ".py",
   "mimetype": "text/x-python",
   "name": "python",
   "nbconvert_exporter": "python",
   "pygments_lexer": "ipython3",
   "version": "3.9.13"
  }
 },
 "nbformat": 4,
 "nbformat_minor": 5
}
